{
 "cells": [
  {
   "cell_type": "code",
   "execution_count": 107,
   "metadata": {},
   "outputs": [],
   "source": [
    "import csv\n",
    "import string\n",
    "import pandas as pd\n",
    "from nltk.tokenize import word_tokenize\n",
    "\n",
    "pd.set_option(\"display.max_colwidth\", 250)\n",
    "\n",
    "dataset = pd.read_csv(\"SMSSpamCollection\", sep=\"\\t\", header=None)\n",
    "dataset.columns = [\"labels\", \"sms_msgs\"]\n",
    "col1 = dataset.groupby(\"labels\") \n",
    "ratio = col1.count().values[0]/col1.count().values[1]\n",
    "\n",
    "def remove_punctuation(text):\n",
    "    without_punct = [t for t in text if t not in string.punctuation]\n",
    "    return \"\".join(without_punct)"
   ]
  },
  {
   "cell_type": "code",
   "execution_count": 43,
   "metadata": {},
   "outputs": [],
   "source": [
    "from nltk.corpus import stopwords\n",
    "\n",
    "dataset[\"clean_msg\"] = dataset[\"sms_msgs\"].apply(lambda msg: remove_punctuation(msg))\n",
    "dataset[\"tokenized_msg\"] = dataset[\"clean_msg\"].apply(lambda msg: word_tokenize(msg.lower()))\n",
    "\n",
    "# removing stopwords\n",
    "def remove_sw(msg):\n",
    "    words = list()\n",
    "    for m in msg:\n",
    "        if m not in stopwords.words(\"english\"):\n",
    "            words.append(m)\n",
    "    return words\n",
    "\n",
    "dataset[\"without_sw\"] = dataset[\"tokenized_msg\"].apply(lambda msg: remove_sw(msg))"
   ]
  },
  {
   "cell_type": "code",
   "execution_count": 46,
   "metadata": {},
   "outputs": [],
   "source": [
    "from nltk.stem import PorterStemmer\n",
    "\n",
    "ps = PorterStemmer()\n",
    "\n",
    "def stem_msg(msg):\n",
    "    words = list()\n",
    "    for m in msg:\n",
    "        words.append(ps.stem(m))\n",
    "    return words\n",
    "\n",
    "dataset[\"stemmed_msg\"] = dataset[\"without_sw\"].apply(lambda msg: stem_msg(msg))"
   ]
  },
  {
   "cell_type": "code",
   "execution_count": 91,
   "metadata": {
    "scrolled": true
   },
   "outputs": [],
   "source": [
    "from nltk import WordNetLemmatizer\n",
    "\n",
    "lemmatizer = WordNetLemmatizer()\n",
    "def lemmatize_msg(sent=None):\n",
    "    if sent is None:\n",
    "        sent = list()\n",
    "    else:\n",
    "        sent = sent\n",
    "    new_sent = list()\n",
    "    for s in sent:\n",
    "        new_sent.append(lemmatizer.lemmatize(s))\n",
    "    return new_sent\n",
    "\n",
    "dataset[\"lemmatized_msg\"] = dataset[\"without_sw\"].apply(lambda msg: lemmatize_msg(msg))"
   ]
  },
  {
   "cell_type": "code",
   "execution_count": 125,
   "metadata": {},
   "outputs": [],
   "source": [
    "# pre-processing \n",
    "def text_clean(msg):\n",
    "    msg =  remove_punctuation(msg)\n",
    "    msg = word_tokenize(msg)\n",
    "    msg = remove_sw(msg)\n",
    "    msg = stem_msg(msg)\n",
    "    #msg = lemmatize_msg(msg)\n",
    "    return msg"
   ]
  },
  {
   "cell_type": "code",
   "execution_count": 75,
   "metadata": {},
   "outputs": [
    {
     "name": "stdout",
     "output_type": "stream",
     "text": [
      "(5572, 8401)\n"
     ]
    }
   ],
   "source": [
    "from sklearn.feature_extraction.text import TfidfVectorizer\n",
    "\n",
    "tfidf =  TfidfVectorizer(analyzer=text_clean)\n",
    "# cv =  CountVectorizer(ngram_range(3,3)) # ngram \n",
    "x = tfidf.fit_transform(dataset[\"sms_msgs\"])\n",
    "dataFrame = pd.DataFrame(x.toarray(), columns=cv.get_feature_names())\n",
    "print(dataFrame.shape)"
   ]
  },
  {
   "cell_type": "code",
   "execution_count": null,
   "metadata": {},
   "outputs": [],
   "source": []
  }
 ],
 "metadata": {
  "kernelspec": {
   "display_name": "Python 3",
   "language": "python",
   "name": "python3"
  },
  "language_info": {
   "codemirror_mode": {
    "name": "ipython",
    "version": 3
   },
   "file_extension": ".py",
   "mimetype": "text/x-python",
   "name": "python",
   "nbconvert_exporter": "python",
   "pygments_lexer": "ipython3",
   "version": "3.8.2"
  }
 },
 "nbformat": 4,
 "nbformat_minor": 4
}
