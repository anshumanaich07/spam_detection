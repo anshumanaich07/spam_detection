{
 "cells": [
  {
   "cell_type": "code",
   "execution_count": 20,
   "metadata": {},
   "outputs": [],
   "source": [
    "import csv\n",
    "import string\n",
    "import pandas as pd\n",
    "from nltk.tokenize import word_tokenize\n",
    "\n",
    "pd.set_option(\"display.max_colwidth\", 250)\n",
    "\n",
    "dataset = pd.read_csv(\"SMSSpamCollection\", sep=\"\\t\", header=None)\n",
    "dataset.columns = [\"label\", \"sms_msgs\"]\n",
    "col1 = dataset.groupby(\"label\") \n",
    "ratio = col1.count().values[0]/col1.count().values[1]\n",
    "# cleaning \n",
    "def remove_punctuation(text):\n",
    "    without_punct = [t for t in text if t not in string.punctuation]\n",
    "    return \"\".join(without_punct)"
   ]
  },
  {
   "cell_type": "code",
   "execution_count": 21,
   "metadata": {},
   "outputs": [],
   "source": [
    "from nltk.corpus import stopwords\n",
    "\n",
    "dataset[\"clean_msg\"] = dataset[\"sms_msgs\"].apply(lambda msg: remove_punctuation(msg))\n",
    "dataset[\"tokenized_msg\"] = dataset[\"clean_msg\"].apply(lambda msg: word_tokenize(msg.lower()))\n",
    "\n",
    "# removing stopwords\n",
    "def remove_sw(msg):\n",
    "    words = list()\n",
    "    for m in msg:\n",
    "        if m not in stopwords.words(\"english\"):\n",
    "            words.append(m)\n",
    "    return words\n",
    "\n",
    "dataset[\"without_sw\"] = dataset[\"tokenized_msg\"].apply(lambda msg: remove_sw(msg))"
   ]
  },
  {
   "cell_type": "code",
   "execution_count": 22,
   "metadata": {},
   "outputs": [],
   "source": [
    "from nltk.stem import PorterStemmer\n",
    "\n",
    "ps = PorterStemmer()\n",
    "\n",
    "def stem_msg(msg):\n",
    "    words = list()\n",
    "    for m in msg:\n",
    "        words.append(ps.stem(m))\n",
    "    return words\n",
    "\n",
    "dataset[\"stemmed_msg\"] = dataset[\"without_sw\"].apply(lambda msg: stem_msg(msg))"
   ]
  },
  {
   "cell_type": "code",
   "execution_count": 23,
   "metadata": {
    "scrolled": true
   },
   "outputs": [],
   "source": [
    "from nltk import WordNetLemmatizer\n",
    "\n",
    "lemmatizer = WordNetLemmatizer()\n",
    "\n",
    "def lemmatize_msg(sent=None):\n",
    "    if sent is None:\n",
    "        sent = list()\n",
    "    else:\n",
    "        sent = sent\n",
    "    new_sent = list()\n",
    "    for s in sent:\n",
    "        new_sent.append(lemmatizer.lemmatize(s))\n",
    "    return new_sent\n",
    "\n",
    "dataset[\"lemmatized_msg\"] = dataset[\"without_sw\"].apply(lambda msg: lemmatize_msg(msg))"
   ]
  },
  {
   "cell_type": "code",
   "execution_count": 24,
   "metadata": {},
   "outputs": [],
   "source": [
    "# pre-processing \n",
    "def text_clean(msg):\n",
    "    msg =  remove_punctuation(msg)\n",
    "    msg = word_tokenize(msg)\n",
    "    msg = remove_sw(msg)\n",
    "    msg = stem_msg(msg)\n",
    "    #msg = lemmatize_msg(msg)\n",
    "    return msg"
   ]
  },
  {
   "cell_type": "code",
   "execution_count": 25,
   "metadata": {},
   "outputs": [],
   "source": [
    "# vectorization \n",
    "from sklearn.feature_extraction.text import TfidfVectorizer\n",
    "\n",
    "tfidf =  TfidfVectorizer(analyzer=text_clean)\n",
    "# cv =  CountVectorizer(ngram_range(3,3)) # ngram \n",
    "x = tfidf.fit_transform(dataset[\"sms_msgs\"])\n",
    "dataFrame = pd.DataFrame(x.toarray())"
   ]
  },
  {
   "cell_type": "code",
   "execution_count": 26,
   "metadata": {
    "scrolled": true
   },
   "outputs": [],
   "source": [
    "# Feature engineering: added message length and punctuation %\n",
    "dataset[\"msg_len\"] = [len(msg) for msg in dataset[\"sms_msgs\"]] \n",
    "\n",
    "def count_punc(msg):\n",
    "    count = 0\n",
    "    for m in msg:\n",
    "        if m in string.punctuation:\n",
    "            count += 1\n",
    "    return (count/len(msg))*100\n",
    "\n",
    "dataset[\"punct_perc\"] = dataset[\"sms_msgs\"].apply(lambda msg: count_punc(msg))\n",
    "# rearrange columns\n",
    "dataset = dataset[[\"label\",\"sms_msgs\", \"msg_len\", \"punct_perc\",\"clean_msg\",\"tokenized_msg\",\"without_sw\", \"stemmed_msg\", \"lemmatized_msg\"]]"
   ]
  },
  {
   "cell_type": "code",
   "execution_count": 27,
   "metadata": {},
   "outputs": [],
   "source": [
    "# training and prediction\n",
    "import pandas as pd\n",
    "import numpy as np\n",
    "from sklearn.model_selection import train_test_split\n",
    "from sklearn.linear_model import LogisticRegression\n",
    "\n",
    "X = dataFrame\n",
    "y = np.array(dataset.label)\n",
    "x_train, x_test, y_train, y_test = train_test_split(X, y, test_size=0.2, random_state=0)\n",
    "x_train = np.array(x_train)\n",
    "y_train = np.array(y_train)\n",
    "lr = LogisticRegression()\n",
    "lr_model = lr.fit(x_train, y_train)\n",
    "results = lr_model.predict(x_test) # predicted values"
   ]
  },
  {
   "cell_type": "code",
   "execution_count": null,
   "metadata": {},
   "outputs": [],
   "source": [
    "def get_score(model, x_train, x_test, y_train, y_test):\n",
    "    model.fit(x_train, y_train)\n",
    "    return model.score(x_test, y_test)"
   ]
  },
  {
   "cell_type": "code",
   "execution_count": null,
   "metadata": {},
   "outputs": [],
   "source": [
    "# kfold data split\n",
    "from sklearn.model_selection import KFold\n",
    "from sklearn.ensemble import RandomForestClassifier\n",
    "from sklearn.svm import SVC\n",
    "\n",
    "k = 2\n",
    "kfold = KFold(k, random_state=1337, shuffle=True)\n",
    "lr_scores, rfc_scores, svm_scores = list(), list(), list()\n",
    "\n",
    "for train_idx, test_idx in kfold.split(dataFrame):\n",
    "    train_x, test_x, train_y, test_y = dataFrame[train_idx], dataFrame[test_idx], dataFrame[train_idx], dataFrame[test_idx]\n",
    "    lr_scores.append(get_score(lr, x_train, x_test, y_train , y_test))\n",
    "    rfc_scores.append(get_score(RandomForestClassifier(n_estimators=20), x_train, x_test, y_train , y_test))\n",
    "    svm_scores.append(get_score(SVC(), x_train, x_test, y_train , y_test))"
   ]
  }
 ],
 "metadata": {
  "kernelspec": {
   "display_name": "Python 3",
   "language": "python",
   "name": "python3"
  },
  "language_info": {
   "codemirror_mode": {
    "name": "ipython",
    "version": 3
   },
   "file_extension": ".py",
   "mimetype": "text/x-python",
   "name": "python",
   "nbconvert_exporter": "python",
   "pygments_lexer": "ipython3",
   "version": "3.8.2"
  }
 },
 "nbformat": 4,
 "nbformat_minor": 4
}
